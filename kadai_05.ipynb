{
  "nbformat": 4,
  "nbformat_minor": 0,
  "metadata": {
    "colab": {
      "provenance": [],
      "authorship_tag": "ABX9TyNI81xCQ4SDjvafImkSNq9D",
      "include_colab_link": true
    },
    "kernelspec": {
      "name": "python3",
      "display_name": "Python 3"
    },
    "language_info": {
      "name": "python"
    }
  },
  "cells": [
    {
      "cell_type": "markdown",
      "metadata": {
        "id": "view-in-github",
        "colab_type": "text"
      },
      "source": [
        "<a href=\"https://colab.research.google.com/github/Akihiroflyfishing0127/Python_basic_kadai-/blob/main/kadai_05.ipynb\" target=\"_parent\"><img src=\"https://colab.research.google.com/assets/colab-badge.svg\" alt=\"Open In Colab\"/></a>"
      ]
    },
    {
      "cell_type": "code",
      "source": [
        "def calculation_total(price):\n",
        "    tax_ratio=0.1\n",
        "    total = price*(1+tax_ratio)\n",
        "    print(f\"{total}desu\")\n",
        "\n",
        "calculation_total(800)\n"
      ],
      "metadata": {
        "colab": {
          "base_uri": "https://localhost:8080/"
        },
        "id": "lL2KBaQtVs0i",
        "outputId": "e39881b7-82ae-4981-f477-0a3d07c76aef"
      },
      "execution_count": 53,
      "outputs": [
        {
          "output_type": "stream",
          "name": "stdout",
          "text": [
            "880.0000000000001desu\n"
          ]
        }
      ]
    },
    {
      "cell_type": "code",
      "source": [],
      "metadata": {
        "id": "LIeJVdwmj_Hg"
      },
      "execution_count": null,
      "outputs": []
    },
    {
      "cell_type": "code",
      "source": [
        "jouhen=10\n",
        "kahen=20\n",
        "takasa=5\n",
        "\n",
        "menseki=(jouhen+kahen)*takasa/2\n",
        "print(f\"{menseki}cm2です\")\n"
      ],
      "metadata": {
        "colab": {
          "base_uri": "https://localhost:8080/"
        },
        "id": "oguHoMVhlgLc",
        "outputId": "ba48c9c7-3eaa-4515-f584-94d273864a22"
      },
      "execution_count": 103,
      "outputs": [
        {
          "output_type": "stream",
          "name": "stdout",
          "text": [
            "75.0cm2です\n"
          ]
        }
      ]
    },
    {
      "cell_type": "code",
      "source": [
        "import random\n",
        "var=random.randint(0,20)\n",
        "\n",
        "if var%3==0 and var%5==0:\n",
        "  print(\"FizzBuzz\")\n",
        "  print(var)\n",
        "elif var%5==0:\n",
        "  print(\"Buzz\")\n",
        "  print(var)\n",
        "elif var%3==0:\n",
        "  print(\"Fuzz\")\n",
        "  print(var)\n",
        "else:\n",
        "  print(var)\n"
      ],
      "metadata": {
        "colab": {
          "base_uri": "https://localhost:8080/"
        },
        "id": "bRwxFPpjiUME",
        "outputId": "b6088c7e-8d91-4484-b9e0-96110a113f51"
      },
      "execution_count": 101,
      "outputs": [
        {
          "output_type": "stream",
          "name": "stdout",
          "text": [
            "FizzBuzz\n",
            "15\n"
          ]
        }
      ]
    }
  ]
}