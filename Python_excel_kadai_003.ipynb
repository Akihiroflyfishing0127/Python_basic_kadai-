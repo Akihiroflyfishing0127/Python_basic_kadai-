{
  "nbformat": 4,
  "nbformat_minor": 0,
  "metadata": {
    "colab": {
      "provenance": [],
      "authorship_tag": "ABX9TyOCRkdFz/g4eIkz4J/EmxSE",
      "include_colab_link": true
    },
    "kernelspec": {
      "name": "python3",
      "display_name": "Python 3"
    },
    "language_info": {
      "name": "python"
    }
  },
  "cells": [
    {
      "cell_type": "markdown",
      "metadata": {
        "id": "view-in-github",
        "colab_type": "text"
      },
      "source": [
        "<a href=\"https://colab.research.google.com/github/Akihiroflyfishing0127/Python_basic_kadai-/blob/main/Python_excel_kadai_003.ipynb\" target=\"_parent\"><img src=\"https://colab.research.google.com/assets/colab-badge.svg\" alt=\"Open In Colab\"/></a>"
      ]
    },
    {
      "cell_type": "code",
      "execution_count": 31,
      "metadata": {
        "colab": {
          "base_uri": "https://localhost:8080/"
        },
        "id": "WiDpVULK1Bct",
        "outputId": "7b929214-b812-41e9-b4c1-999c9e9e81ef"
      },
      "outputs": [
        {
          "output_type": "stream",
          "name": "stdout",
          "text": [
            "       0         1       2\n",
            "0    売上年        商品  金額（千円）\n",
            "1   2022        紅茶    1200\n",
            "2   2022      ハチミツ    1000\n",
            "3   2022      セッケン    1300\n",
            "4   2022        紅茶     800\n",
            "5   2022  アロマキャンドル     900\n",
            "6   2022      ハチミツ     300\n",
            "7   2022      ハチミツ     560\n",
            "8   2022    ワイングラス     850\n",
            "9   2022  アロマキャンドル     810\n",
            "10  2022        包丁     940\n",
            "11  2022        水筒    1150\n",
            "0    売上年        商品  金額（千円）\n",
            "1   2023        紅茶    1200\n",
            "2   2023      ハチミツ    1000\n",
            "3   2023        水筒     250\n",
            "4   2023     コーヒー豆     860\n",
            "5   2023      セッケン    1300\n",
            "6   2023        紅茶     670\n",
            "7   2023  アロマキャンドル     900\n",
            "8   2023    ワイングラス     850\n",
            "9   2023        包丁     940\n",
            "10  2023     フライパン     670\n",
            "11  2023        水筒    1150\n"
          ]
        }
      ],
      "source": [
        "import openpyxl\n",
        "import pandas as pd\n",
        "from openpyxl.chart import (\n",
        "    BarChart,\n",
        "    Reference,\n",
        "    Series,\n",
        ")\n",
        "from openpyxl.chart.label import DataLabelList\n",
        "\n",
        "# Excelファイルを読み込む(2022)\n",
        "wb = openpyxl.load_workbook('2022_年間売上表.xlsx')\n",
        "sheet = wb.active\n",
        "\n",
        "# 選択したシート内の全てのセルの値を取得してデータフレームに変換する\n",
        "data = sheet.values\n",
        "df1 = pd.DataFrame(data)\n",
        "\n",
        "# 結果の表示\n",
        "#print(df1)\n",
        "\n",
        "# Excelファイルを読み込む(2023)\n",
        "wb = openpyxl.load_workbook('2023_年間売上表.xlsx')\n",
        "sheet = wb.active\n",
        "\n",
        "# 選択したシート内の全てのセルの値を取得してデータフレームに変換する\n",
        "data = sheet.values\n",
        "df2 = pd.DataFrame(data)\n",
        "\n",
        "# 結果の表示\n",
        "#print(df2)\n",
        "\n",
        "# 縦結合\n",
        "data_com = pd.concat([df1, df2], axis=0)\n",
        "\n",
        "# 結果の表示\n",
        "print(data_com)\n",
        "\n",
        "\n",
        "# 売上年別に「金額」列の合計を計算する\n",
        "#result = df1.groupby('商品')['金額（千円）'].sum()\n",
        "#print(result)\n",
        "\n"
      ]
    },
    {
      "cell_type": "code",
      "source": [
        "import openpyxl\n",
        "import pandas as pd\n",
        "from openpyxl.chart import BarChart, Reference, Series\n",
        "from openpyxl.chart.label import DataLabelList\n",
        "\n",
        "# Excelファイルを読み込む(2022)\n",
        "wb_2022 = openpyxl.load_workbook('2022_年間売上表.xlsx')\n",
        "sheet_2022 = wb_2022.active\n",
        "\n",
        "# 選択したシート内の全てのセルの値を取得してデータフレームに変換する\n",
        "data_2022 = list(sheet_2022.values)\n",
        "df1 = pd.DataFrame(data_2022[1:], columns=data_2022[0])  # 1行目をカラム名に設定\n",
        "df1['売上年'] = 2022  # 売上年の列を追加\n",
        "\n",
        "# Excelファイルを読み込む(2023)\n",
        "wb_2023 = openpyxl.load_workbook('2023_年間売上表.xlsx')\n",
        "sheet_2023 = wb_2023.active\n",
        "\n",
        "# 選択したシート内の全てのセルの値を取得してデータフレームに変換する\n",
        "data_2023 = list(sheet_2023.values)\n",
        "df2 = pd.DataFrame(data_2023[1:], columns=data_2023[0])  # 1行目をカラム名に設定\n",
        "df2['売上年'] = 2023  # 売上年の列を追加\n",
        "\n",
        "# 縦結合\n",
        "data_com = pd.concat([df1, df2], ignore_index=True)\n",
        "\n",
        "# 結果の表示（デバッグ用）\n",
        "print(data_com)\n",
        "\n",
        "# 「商品」と「売上年」でグループ化し、「金額（千円）」の合計を計算する\n",
        "result = data_com.groupby(['商品', '売上年'])['金額（千円）'].sum().reset_index()\n",
        "\n",
        "# 結果の表示\n",
        "print(result)\n",
        "\n",
        "# Excelファイルを作成する\n",
        "writer = pd.ExcelWriter('売上集計表.xlsx')\n",
        "\n",
        "# DataFrameオブジェクトをExcelファイルに書き込む\n",
        "result.to_excel(writer, sheet_name='売上集計', index=True)\n",
        "\n",
        "\n"
      ],
      "metadata": {
        "colab": {
          "base_uri": "https://localhost:8080/"
        },
        "id": "UtFujhl3JwoY",
        "outputId": "4ffbf79a-d23c-429c-dcb2-4feaf270a0e8"
      },
      "execution_count": 47,
      "outputs": [
        {
          "output_type": "stream",
          "name": "stdout",
          "text": [
            "     売上年        商品  金額（千円）\n",
            "0   2022        紅茶    1200\n",
            "1   2022      ハチミツ    1000\n",
            "2   2022      セッケン    1300\n",
            "3   2022        紅茶     800\n",
            "4   2022  アロマキャンドル     900\n",
            "5   2022      ハチミツ     300\n",
            "6   2022      ハチミツ     560\n",
            "7   2022    ワイングラス     850\n",
            "8   2022  アロマキャンドル     810\n",
            "9   2022        包丁     940\n",
            "10  2022        水筒    1150\n",
            "11  2023        紅茶    1200\n",
            "12  2023      ハチミツ    1000\n",
            "13  2023        水筒     250\n",
            "14  2023     コーヒー豆     860\n",
            "15  2023      セッケン    1300\n",
            "16  2023        紅茶     670\n",
            "17  2023  アロマキャンドル     900\n",
            "18  2023    ワイングラス     850\n",
            "19  2023        包丁     940\n",
            "20  2023     フライパン     670\n",
            "21  2023        水筒    1150\n",
            "          商品   売上年  金額（千円）\n",
            "0   アロマキャンドル  2022    1710\n",
            "1   アロマキャンドル  2023     900\n",
            "2      コーヒー豆  2023     860\n",
            "3       セッケン  2022    1300\n",
            "4       セッケン  2023    1300\n",
            "5       ハチミツ  2022    1860\n",
            "6       ハチミツ  2023    1000\n",
            "7      フライパン  2023     670\n",
            "8     ワイングラス  2022     850\n",
            "9     ワイングラス  2023     850\n",
            "10        包丁  2022     940\n",
            "11        包丁  2023     940\n",
            "12        水筒  2022    1150\n",
            "13        水筒  2023    1400\n",
            "14        紅茶  2022    2000\n",
            "15        紅茶  2023    1870\n"
          ]
        }
      ]
    }
  ]
}