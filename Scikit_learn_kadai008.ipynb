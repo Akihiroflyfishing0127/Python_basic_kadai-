{
  "nbformat": 4,
  "nbformat_minor": 0,
  "metadata": {
    "colab": {
      "provenance": [],
      "authorship_tag": "ABX9TyMHhvJKmqU948s553JBFaFe",
      "include_colab_link": true
    },
    "kernelspec": {
      "name": "python3",
      "display_name": "Python 3"
    },
    "language_info": {
      "name": "python"
    }
  },
  "cells": [
    {
      "cell_type": "markdown",
      "metadata": {
        "id": "view-in-github",
        "colab_type": "text"
      },
      "source": [
        "<a href=\"https://colab.research.google.com/github/Akihiroflyfishing0127/Python_basic_kadai-/blob/main/Scikit_learn_kadai008.ipynb\" target=\"_parent\"><img src=\"https://colab.research.google.com/assets/colab-badge.svg\" alt=\"Open In Colab\"/></a>"
      ]
    },
    {
      "cell_type": "code",
      "source": [
        "###sklearnのload_wineデータを使用し、ランダムフォレストにより予測モデルを作る####\n",
        "\n",
        "from sklearn.datasets import load_wine\n",
        "import pandas as pd\n",
        "from sklearn.model_selection import train_test_split\n",
        "#from sklearn.tree import DecisionTreeClassifier\n",
        "from sklearn.ensemble import RandomForestClassifier\n",
        "from sklearn.metrics import accuracy_score\n",
        "\n",
        "#データセットの取得\n",
        "dataset = load_wine()\n",
        "#dataset.data\n",
        "#dataset.feature_names\n",
        "\n",
        "df = pd.DataFrame(data=dataset.data, columns=dataset.feature_names)\n",
        "#df.head()\n",
        "\n",
        "df['category'] = dataset.target\n",
        "#print(df.head())\n",
        "\n",
        "#データセットの設定\n",
        "x = dataset.data\n",
        "y = dataset.target\n",
        "\n",
        "#データセットの分割\n",
        "train_test_split(x, y, test_size=0.3, random_state=5)\n",
        "# 以下のようにrandom_stateを指定しない場合、実行毎に結果が異なります。\n",
        "# train_test_split(X, y, test_size=0.3)\n",
        "\n",
        "x_train, x_test, y_train, y_test = train_test_split(x,y, test_size = 0.3, random_state =5)\n",
        "print(x.shape, x_train.shape, x_test.shape, y.shape, y_train.shape, y_test.shape)\n",
        "\n",
        "#予測モデルの設定\n",
        "#model = DecisionTreeClassifier(random_state=3)\n",
        "model = RandomForestClassifier(random_state=3)\n",
        "\n",
        "# 以下のようにrandom_stateを指定しない場合、最終的に生成される予測モデルが実行毎に異なる可能性があります。\n",
        "#これは、モデルの評価結果や予測結果が実行毎に変わってしまう可能性があること意味します。\n",
        "# model = DecisionTreeClassifier()\n",
        "\n",
        "#予測モデルの学習\n",
        "model.fit(x_train, y_train)\n",
        "\n",
        "#テストデータによる予測\n",
        "y_pred = model.predict(x_test)\n",
        "y_pred\n",
        "\n",
        "#正確性の評価\n",
        "accuracy_score(y_test,y_pred)\n"
      ],
      "metadata": {
        "colab": {
          "base_uri": "https://localhost:8080/"
        },
        "id": "GBF9wc4RNWrJ",
        "outputId": "9b2e448b-17aa-4f4d-add0-1c9445c651de"
      },
      "execution_count": 11,
      "outputs": [
        {
          "output_type": "stream",
          "name": "stdout",
          "text": [
            "(178, 13) (124, 13) (54, 13) (178,) (124,) (54,)\n"
          ]
        },
        {
          "output_type": "execute_result",
          "data": {
            "text/plain": [
              "0.9629629629629629"
            ]
          },
          "metadata": {},
          "execution_count": 11
        }
      ]
    },
    {
      "cell_type": "code",
      "execution_count": 9,
      "metadata": {
        "colab": {
          "base_uri": "https://localhost:8080/"
        },
        "id": "4WbQxHkoKkKP",
        "outputId": "9daa626c-4eff-430c-80f2-5089776340ca"
      },
      "outputs": [
        {
          "output_type": "stream",
          "name": "stdout",
          "text": [
            "(178, 13) (124, 13) (54, 13) (178,) (124,) (54,)\n"
          ]
        },
        {
          "output_type": "execute_result",
          "data": {
            "text/plain": [
              "0.9259259259259259"
            ]
          },
          "metadata": {},
          "execution_count": 9
        }
      ],
      "source": [
        "###sklearnのload_wineデータを使用し、決定木モデルにより予測モデルを作る####\n",
        "\n",
        "from sklearn.datasets import load_wine\n",
        "import pandas as pd\n",
        "from sklearn.model_selection import train_test_split\n",
        "from sklearn.tree import DecisionTreeClassifier\n",
        "from sklearn.metrics import accuracy_score\n",
        "\n",
        "#データセットの取得\n",
        "dataset = load_wine()\n",
        "#dataset.data\n",
        "#dataset.feature_names\n",
        "\n",
        "df = pd.DataFrame(data=dataset.data, columns=dataset.feature_names)\n",
        "#df.head()\n",
        "\n",
        "df['category'] = dataset.target\n",
        "#print(df.head())\n",
        "\n",
        "#データセットの設定\n",
        "x = dataset.data\n",
        "y = dataset.target\n",
        "\n",
        "#データセットの分割\n",
        "train_test_split(x, y, test_size=0.3, random_state=5)\n",
        "# 以下のようにrandom_stateを指定しない場合、実行毎に結果が異なります。\n",
        "# train_test_split(X, y, test_size=0.3)\n",
        "\n",
        "x_train, x_test, y_train, y_test = train_test_split(x,y, test_size = 0.3, random_state =5)\n",
        "print(x.shape, x_train.shape, x_test.shape, y.shape, y_train.shape, y_test.shape)\n",
        "\n",
        "#予測モデルの設定\n",
        "model = DecisionTreeClassifier(random_state=3)\n",
        "# 以下のようにrandom_stateを指定しない場合、最終的に生成される予測モデルが実行毎に異なる可能性があります。\n",
        "#これは、モデルの評価結果や予測結果が実行毎に変わってしまう可能性があること意味します。\n",
        "# model = DecisionTreeClassifier()\n",
        "\n",
        "#予測モデルの学習\n",
        "model.fit(x_train, y_train)\n",
        "\n",
        "#テストデータによる予測\n",
        "y_pred = model.predict(x_test)\n",
        "y_pred\n",
        "\n",
        "#正確性の評価\n",
        "accuracy_score(y_test,y_pred)\n"
      ]
    }
  ]
}