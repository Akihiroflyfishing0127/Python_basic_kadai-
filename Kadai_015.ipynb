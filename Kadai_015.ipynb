{
  "nbformat": 4,
  "nbformat_minor": 0,
  "metadata": {
    "colab": {
      "provenance": [],
      "toc_visible": true,
      "authorship_tag": "ABX9TyP46555tX7hUDY5UobFYArZ",
      "include_colab_link": true
    },
    "kernelspec": {
      "name": "python3",
      "display_name": "Python 3"
    },
    "language_info": {
      "name": "python"
    }
  },
  "cells": [
    {
      "cell_type": "markdown",
      "metadata": {
        "id": "view-in-github",
        "colab_type": "text"
      },
      "source": [
        "<a href=\"https://colab.research.google.com/github/Akihiroflyfishing0127/Python_basic_kadai-/blob/main/Kadai_015.ipynb\" target=\"_parent\"><img src=\"https://colab.research.google.com/assets/colab-badge.svg\" alt=\"Open In Colab\"/></a>"
      ]
    },
    {
      "cell_type": "code",
      "execution_count": null,
      "metadata": {
        "colab": {
          "base_uri": "https://localhost:8080/"
        },
        "id": "col7aX2PpCne",
        "outputId": "d80fcb0e-1910-473b-bbd2-c8e022e9153a"
      },
      "outputs": [
        {
          "output_type": "stream",
          "name": "stdout",
          "text": [
            "coffee\n"
          ]
        }
      ],
      "source": [
        "class Product:\n",
        "  def __it__(self):\n",
        "    self.name=\"\"\n",
        "\n",
        "  def set_name(self,name):\n",
        "    self.name=name\n",
        "\n",
        "  def show_name(self):\n",
        "    print(self.name)\n",
        "\n",
        "coffee=Product()\n",
        "\n",
        "coffee.set_name(\"coffee\")\n",
        "coffee.show_name()\n",
        "\n",
        "\n",
        "\n"
      ]
    },
    {
      "cell_type": "code",
      "source": [
        "class Human:\n",
        "\n",
        "# コンストラクタ、属性を定義\n",
        "    def __init__(self, name, age):\n",
        "      self.name=name\n",
        "      self.age=age\n",
        "\n",
        "#メソッドを定義\n",
        "    def show_printinfo(self):\n",
        "      print(self.name)\n",
        "      print(self.age)\n",
        "\n",
        "#インスタンス化\n",
        "Toyo=Human(\"Aki\",54)\n",
        "\n",
        "#Print\n",
        "Toyo. show_printinfo()\n",
        "\n"
      ],
      "metadata": {
        "colab": {
          "base_uri": "https://localhost:8080/"
        },
        "outputId": "556472d0-1ea7-4337-82e9-93d59ef44297",
        "id": "XLCzBqvNdfOu"
      },
      "execution_count": 34,
      "outputs": [
        {
          "output_type": "stream",
          "name": "stdout",
          "text": [
            "Aki\n",
            "54\n"
          ]
        }
      ]
    },
    {
      "cell_type": "code",
      "source": [],
      "metadata": {
        "id": "8swqZnNXuxjZ"
      },
      "execution_count": null,
      "outputs": []
    },
    {
      "cell_type": "markdown",
      "source": [],
      "metadata": {
        "id": "1h9G-kXhu0Di"
      }
    },
    {
      "cell_type": "code",
      "source": [
        "import time\n",
        "\n",
        "print(time.strftime('%y年%m月%d日%H時%m分%S秒',time.localtime()))\n"
      ],
      "metadata": {
        "colab": {
          "base_uri": "https://localhost:8080/"
        },
        "id": "qKZkiR9XmbaG",
        "outputId": "89a0b8de-edd1-4c95-d35b-b5f79e9e4f41"
      },
      "execution_count": null,
      "outputs": [
        {
          "output_type": "stream",
          "name": "stdout",
          "text": [
            "24年04月18日14時04分53秒\n"
          ]
        }
      ]
    },
    {
      "cell_type": "code",
      "source": [
        "import time\n",
        "print(time.time())\n"
      ],
      "metadata": {
        "colab": {
          "base_uri": "https://localhost:8080/"
        },
        "id": "bkbizLGRnplH",
        "outputId": "fc4f99c8-a145-42bf-91e3-a9f780364a47"
      },
      "execution_count": null,
      "outputs": [
        {
          "output_type": "stream",
          "name": "stdout",
          "text": [
            "1713450703.0014064\n"
          ]
        }
      ]
    },
    {
      "cell_type": "code",
      "source": [
        "import datetime\n",
        "now=datetime.datetime.now()\n"
      ],
      "metadata": {
        "id": "qdrhVg5En1Mq"
      },
      "execution_count": null,
      "outputs": []
    }
  ]
}