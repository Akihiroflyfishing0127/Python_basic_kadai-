{
  "nbformat": 4,
  "nbformat_minor": 0,
  "metadata": {
    "colab": {
      "provenance": [],
      "toc_visible": true,
      "authorship_tag": "ABX9TyOgn9DlLAC9YkATmjDxaW8t",
      "include_colab_link": true
    },
    "kernelspec": {
      "name": "python3",
      "display_name": "Python 3"
    },
    "language_info": {
      "name": "python"
    }
  },
  "cells": [
    {
      "cell_type": "markdown",
      "metadata": {
        "id": "view-in-github",
        "colab_type": "text"
      },
      "source": [
        "<a href=\"https://colab.research.google.com/github/Akihiroflyfishing0127/Python_basic_kadai-/blob/main/Kadai_015.ipynb\" target=\"_parent\"><img src=\"https://colab.research.google.com/assets/colab-badge.svg\" alt=\"Open In Colab\"/></a>"
      ]
    },
    {
      "cell_type": "code",
      "execution_count": null,
      "metadata": {
        "colab": {
          "base_uri": "https://localhost:8080/"
        },
        "id": "col7aX2PpCne",
        "outputId": "d80fcb0e-1910-473b-bbd2-c8e022e9153a"
      },
      "outputs": [
        {
          "output_type": "stream",
          "name": "stdout",
          "text": [
            "coffee\n"
          ]
        }
      ],
      "source": [
        "class Product:\n",
        "  def __it__(self):\n",
        "    self.name=\"\"\n",
        "\n",
        "  def set_name(self,name):\n",
        "    self.name=name\n",
        "\n",
        "  def show_name(self):\n",
        "    print(self.name)\n",
        "\n",
        "coffee=Product()\n",
        "\n",
        "coffee.set_name(\"coffee\")\n",
        "coffee.show_name()\n",
        "\n",
        "\n",
        "\n"
      ]
    },
    {
      "cell_type": "code",
      "source": [
        "class Human:\n",
        "  def  __it__(self):\n",
        "    self.name=\"\"\n",
        "    self.age=\"\"\n",
        "\n",
        "  def set_name(self,name):\n",
        "    self.name=name\n",
        "\n",
        "  def set_age(self,age):\n",
        "    self.age=age\n",
        "\n",
        "  def show_printinfo(self):\n",
        "    print(self.name)\n",
        "    print(self.age)\n",
        "\n",
        "Toyo=Human()\n",
        "\n",
        "Toyo.set_name(\"Akihiro\")\n",
        "Toyo.set_age(\"54\")\n",
        "Toyo.show_printinfo()"
      ],
      "metadata": {
        "colab": {
          "base_uri": "https://localhost:8080/"
        },
        "id": "exWFzUY4vJ5t",
        "outputId": "330ad675-3102-49d7-d209-29dc9d4a784e"
      },
      "execution_count": null,
      "outputs": [
        {
          "output_type": "stream",
          "name": "stdout",
          "text": [
            "Akihiro\n",
            "54\n"
          ]
        }
      ]
    },
    {
      "cell_type": "code",
      "source": [],
      "metadata": {
        "id": "8swqZnNXuxjZ"
      },
      "execution_count": null,
      "outputs": []
    },
    {
      "cell_type": "markdown",
      "source": [],
      "metadata": {
        "id": "1h9G-kXhu0Di"
      }
    },
    {
      "cell_type": "code",
      "source": [
        "import time\n",
        "\n",
        "print(time.strftime('%y年%m月%d日%H時%m分%S秒',time.localtime()))\n"
      ],
      "metadata": {
        "colab": {
          "base_uri": "https://localhost:8080/"
        },
        "id": "qKZkiR9XmbaG",
        "outputId": "89a0b8de-edd1-4c95-d35b-b5f79e9e4f41"
      },
      "execution_count": null,
      "outputs": [
        {
          "output_type": "stream",
          "name": "stdout",
          "text": [
            "24年04月18日14時04分53秒\n"
          ]
        }
      ]
    },
    {
      "cell_type": "code",
      "source": [
        "import time\n",
        "print(time.time())\n"
      ],
      "metadata": {
        "colab": {
          "base_uri": "https://localhost:8080/"
        },
        "id": "bkbizLGRnplH",
        "outputId": "fc4f99c8-a145-42bf-91e3-a9f780364a47"
      },
      "execution_count": null,
      "outputs": [
        {
          "output_type": "stream",
          "name": "stdout",
          "text": [
            "1713450703.0014064\n"
          ]
        }
      ]
    },
    {
      "cell_type": "code",
      "source": [
        "import datetime\n",
        "now=datetime.datetime.now()\n"
      ],
      "metadata": {
        "id": "qdrhVg5En1Mq"
      },
      "execution_count": null,
      "outputs": []
    }
  ]
}