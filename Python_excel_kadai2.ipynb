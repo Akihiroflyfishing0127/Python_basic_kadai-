{
  "nbformat": 4,
  "nbformat_minor": 0,
  "metadata": {
    "colab": {
      "provenance": [],
      "authorship_tag": "ABX9TyM6zW0WAKN1iOKmmd20YhC4",
      "include_colab_link": true
    },
    "kernelspec": {
      "name": "python3",
      "display_name": "Python 3"
    },
    "language_info": {
      "name": "python"
    }
  },
  "cells": [
    {
      "cell_type": "markdown",
      "metadata": {
        "id": "view-in-github",
        "colab_type": "text"
      },
      "source": [
        "<a href=\"https://colab.research.google.com/github/Akihiroflyfishing0127/Python_basic_kadai-/blob/main/Python_excel_kadai2.ipynb\" target=\"_parent\"><img src=\"https://colab.research.google.com/assets/colab-badge.svg\" alt=\"Open In Colab\"/></a>"
      ]
    },
    {
      "cell_type": "code",
      "execution_count": 10,
      "metadata": {
        "id": "FDIu7IhD06Fu"
      },
      "outputs": [],
      "source": [
        "import pandas as pd\n",
        "\n",
        "# データフレームの作成\n",
        "df = pd.DataFrame({\n",
        "    '日付':\n",
        "      ['2023-05-17', '2023-05-18', '2023-05-19', '2023-05-20', '2023-05-21'],\n",
        "    '社員名': ['山田', '佐藤', '鈴木', '田中', '高橋'],\n",
        "    '売上': [100, 200, 150, 300, 250],\n",
        "    '部門': ['メーカー', '代理店', 'メーカー', '商社', '代理店'],\n",
        "})\n",
        "\n",
        "# 平均売上を求めて新しい列を作成\n",
        "df['平均売上'] = df['売上'].mean()\n",
        "\n",
        "\n",
        "# 売上で分岐して業績ランクを求める関数「performance」を定義\n",
        "def performance(level):\n",
        "  result = '';\n",
        "  #if level >= 50 + df['平均売上']:\n",
        "  if level >= 250:\n",
        "      result = 'A'; #4つインデントが重要\n",
        "  #elif level >= df['平均売上']:\n",
        "  elif level >= 200:\n",
        "      result = 'B'; #4つインデント重要\n",
        "  else:\n",
        "      result = 'C'; #4つインデントが重要\n",
        "  return result\n",
        "\n",
        "# 「業績ランク」列を作成し、関数「performance」を適用して値を設定\n",
        "df['業績ランク'] = df['売上'].apply(performance)\n",
        "\n",
        "# Excelファイルを作成\n",
        "writer = pd.ExcelWriter('業績.xlsx')\n",
        "\n",
        "# DataFrameオブジェクトをExcelファイルに書き込む\n",
        "df.to_excel(writer, sheet_name='Sheet1', index=False)\n",
        "\n",
        "# Excelファイルを閉じる\n",
        "writer.close()\n"
      ]
    }
  ]
}