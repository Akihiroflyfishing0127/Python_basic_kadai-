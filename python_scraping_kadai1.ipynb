{
  "nbformat": 4,
  "nbformat_minor": 0,
  "metadata": {
    "colab": {
      "provenance": [],
      "authorship_tag": "ABX9TyN9IzxVoEnYN7tTbVItiKcr",
      "include_colab_link": true
    },
    "kernelspec": {
      "name": "python3",
      "display_name": "Python 3"
    },
    "language_info": {
      "name": "python"
    }
  },
  "cells": [
    {
      "cell_type": "markdown",
      "metadata": {
        "id": "view-in-github",
        "colab_type": "text"
      },
      "source": [
        "<a href=\"https://colab.research.google.com/github/Akihiroflyfishing0127/Python_basic_kadai-/blob/main/python_scraping_kadai1.ipynb\" target=\"_parent\"><img src=\"https://colab.research.google.com/assets/colab-badge.svg\" alt=\"Open In Colab\"/></a>"
      ]
    },
    {
      "cell_type": "code",
      "execution_count": 42,
      "metadata": {
        "colab": {
          "base_uri": "https://localhost:8080/"
        },
        "id": "Ck-eYl1Wvfza",
        "outputId": "e57ce1c1-c758-455f-96f2-72fda4819545"
      },
      "outputs": [
        {
          "output_type": "stream",
          "name": "stdout",
          "text": [
            "読売テレビニュース　衆議院補欠選挙で維新候補が敗北したことを受け、大阪府知事で日本維新の会の共同代表を務める吉村洋文氏は、「完全な敗北。我々の力不足」と述べる一方、立憲との候補者調整については改めて否定しました。\n",
            "\n",
            "【特集】維新はなぜ地方で勝てない？ 衆院補選連敗で拡大戦略に“黄色信号”\n",
            "\n",
            "　4月28日に投開票が行われた補欠選挙で、日本維新の会は東京15区と長崎3区で公認候補を擁立し、選挙戦では吉村氏も応援に駆けつけましたが、いずれも立憲民主党の候補に敗れました。\n",
            "\n",
            "　1日。吉村氏は記者団に対し「政治とカネが争点の中で、立憲が受け皿に選ばれた。まだまだ力不足で、愚直に改革を推進していく」と話しました\n",
            "\n",
            "　一方で、維新の元代表である弁護士の橋下徹氏が自身のX（旧ツイッター）で、「今回の補選は事実上の野党間予備選挙。次の衆議院総選挙において東京15区に維新は擁立してはならない。候補者を乱立させて比例票だけを狙うのは万年野党への道。」などと投稿していました。\n",
            "\n",
            "　これに対し吉村氏は、「一つの考え方」としつつも、3月の党大会で野党第一党を目指し、『与党の過半数割れ』を党の目標に据えたことを挙げ、「補選の結果を受けて大きく転換することにはならない。反省するところは反省するがぶれずにまっすぐ誠実に突き進んでいくということが重要」との見解を述べました。\n",
            "\n",
            "　さらに、今回の補選結果を受けた立憲との候補者調整についても、「大きな方針が変わることはない」と否定しました。\n"
          ]
        }
      ],
      "source": [
        "import requests\n",
        "from bs4 import BeautifulSoup\n",
        "\n",
        "#取得する対象のURL\n",
        "url=\"https://news.yahoo.co.jp/articles/e10c69c224f3e6c7f51e21ef8d5762ee8530e4a8\"\n",
        "\n",
        "#GETリクエストを送信し、HTMLを取得\n",
        "response=requests.get(url)\n",
        "\n",
        "#HTMLを解析\n",
        "soup=BeautifulSoup(response.text,'html.parser')\n",
        "\n",
        "#タイトルの要素を取得\n",
        "#CSSセレクトを使用し、文章を取得\n",
        "title_element=soup.select_one('#uamods >div')\n",
        "\n",
        "#文章のテキストを取得,print\n",
        "print(title_element.text)\n",
        "\n"
      ]
    }
  ]
}