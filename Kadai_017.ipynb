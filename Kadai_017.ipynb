{
  "nbformat": 4,
  "nbformat_minor": 0,
  "metadata": {
    "colab": {
      "provenance": [],
      "authorship_tag": "ABX9TyMs8R79esTSsIzKumrcyLHy",
      "include_colab_link": true
    },
    "kernelspec": {
      "name": "python3",
      "display_name": "Python 3"
    },
    "language_info": {
      "name": "python"
    }
  },
  "cells": [
    {
      "cell_type": "markdown",
      "metadata": {
        "id": "view-in-github",
        "colab_type": "text"
      },
      "source": [
        "<a href=\"https://colab.research.google.com/github/Akihiroflyfishing0127/Python_basic_kadai-/blob/main/Kadai_017.ipynb\" target=\"_parent\"><img src=\"https://colab.research.google.com/assets/colab-badge.svg\" alt=\"Open In Colab\"/></a>"
      ]
    },
    {
      "cell_type": "code",
      "source": [
        "class Human:\n",
        "\n",
        "# コンストラクタ、属性を定義\n",
        "    def __init__(self, name, age):\n",
        "      self.name=name\n",
        "      self.age=age\n",
        "\n",
        "#メソッドを定義\n",
        "    def show_printinfo(self):\n",
        "      print(self.name)\n",
        "      print(self.age)\n",
        "\n",
        "#インスタンス化\n",
        "Toyo=Human(\"Aki\",54)\n",
        "\n",
        "#Print\n",
        "Toyo. show_printinfo()\n",
        "\n"
      ],
      "metadata": {
        "colab": {
          "base_uri": "https://localhost:8080/"
        },
        "outputId": "da4054f9-07c3-483a-f57a-4c6b138b0025",
        "id": "XLCzBqvNdfOu"
      },
      "execution_count": 103,
      "outputs": [
        {
          "output_type": "stream",
          "name": "stdout",
          "text": [
            "Aki\n",
            "54\n"
          ]
        }
      ]
    },
    {
      "cell_type": "code",
      "source": [
        "\n",
        "#name,ageを持つHumanクラスを作成\n",
        "\n",
        "class Human:\n",
        "\n",
        "# コンストラクタ、属性を定義\n",
        "  def __init__(self, name, age):\n",
        "   self.name=name\n",
        "   self.age=age\n",
        "\n",
        "#Age>20は大人、そうでない場合は大人でない、とPrint\n",
        "\n",
        "  def check_adult (self,name,age):\n",
        "   if age >= 20:\n",
        "    print(f\"{name} は{age}歳, Adult\")\n",
        "   else:\n",
        "    print(f\"{name} は {age}歳, NOT Adult\")\n",
        "\n",
        "#インスタンスを複数生成しリストを作成する\n",
        "  Toyo=Human(\"あきひろ\",54)\n",
        "  Suzuki=Human(\"こうぞう\",18)\n",
        "  Naga=Human(\"Yuji\",30)\n",
        "  Matsu=Human(\"Go\",10)\n",
        "  Hayashi=Human(\"Masao\",20)\n",
        "\n",
        "  user_names = [Toyo.name,Suzuki.name,Naga.name,Matsu.name,Hayashi.name]\n",
        "  user_ages  = [Toyo.age,Suzuki.age,Naga.age,Matsu.age,Hayashi.age]\n",
        "\n",
        "#リストの要素数分だけCheck_Adultメソッドを呼び出す\n",
        "  for i in range(0,5):\n",
        "   Toyo. check_adult(user_names[i],user_ages[i])\n",
        "\n",
        "\n",
        "\n",
        "\n",
        "\n",
        "\n",
        "\n"
      ],
      "metadata": {
        "id": "cVN08RQ70Nq5",
        "colab": {
          "base_uri": "https://localhost:8080/"
        },
        "outputId": "741d0d40-4e9d-483a-bc35-77f203b4742e"
      },
      "execution_count": 124,
      "outputs": [
        {
          "output_type": "stream",
          "name": "stdout",
          "text": [
            "あきひろ は54歳, Adult\n",
            "こうぞう は 18歳, NOT Adult\n",
            "Yuji は30歳, Adult\n",
            "Go は 10歳, NOT Adult\n",
            "Masao は20歳, Adult\n"
          ]
        }
      ]
    },
    {
      "cell_type": "code",
      "source": [],
      "metadata": {
        "id": "8swqZnNXuxjZ"
      },
      "execution_count": null,
      "outputs": []
    },
    {
      "cell_type": "markdown",
      "source": [],
      "metadata": {
        "id": "1h9G-kXhu0Di"
      }
    },
    {
      "cell_type": "code",
      "source": [
        "import time\n",
        "\n",
        "print(time.strftime('%y年%m月%d日%H時%m分%S秒',time.localtime()))\n"
      ],
      "metadata": {
        "id": "qKZkiR9XmbaG"
      },
      "execution_count": null,
      "outputs": []
    },
    {
      "cell_type": "code",
      "source": [
        "import time\n",
        "print(time.time())\n"
      ],
      "metadata": {
        "id": "bkbizLGRnplH"
      },
      "execution_count": null,
      "outputs": []
    },
    {
      "cell_type": "code",
      "source": [
        "import datetime\n",
        "now=datetime.datetime.now()\n"
      ],
      "metadata": {
        "id": "qdrhVg5En1Mq"
      },
      "execution_count": null,
      "outputs": []
    }
  ]
}