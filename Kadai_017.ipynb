{
  "nbformat": 4,
  "nbformat_minor": 0,
  "metadata": {
    "colab": {
      "provenance": [],
      "authorship_tag": "ABX9TyPxcMqhH+zvCj34HhspK3HR",
      "include_colab_link": true
    },
    "kernelspec": {
      "name": "python3",
      "display_name": "Python 3"
    },
    "language_info": {
      "name": "python"
    }
  },
  "cells": [
    {
      "cell_type": "markdown",
      "metadata": {
        "id": "view-in-github",
        "colab_type": "text"
      },
      "source": [
        "<a href=\"https://colab.research.google.com/github/Akihiroflyfishing0127/Python_basic_kadai-/blob/main/Kadai_017.ipynb\" target=\"_parent\"><img src=\"https://colab.research.google.com/assets/colab-badge.svg\" alt=\"Open In Colab\"/></a>"
      ]
    },
    {
      "cell_type": "code",
      "source": [
        "class Human:\n",
        "\n",
        "# コンストラクタ、属性を定義\n",
        "    def __init__(self, name, age):\n",
        "      self.name=name\n",
        "      self.age=age\n",
        "\n",
        "#メソッドを定義\n",
        "    def show_printinfo(self):\n",
        "      print(self.name)\n",
        "      print(self.age)\n",
        "\n",
        "#インスタンス化\n",
        "Toyo=Human(\"Aki\",54)\n",
        "\n",
        "#Print\n",
        "Toyo. show_printinfo()\n",
        "\n"
      ],
      "metadata": {
        "colab": {
          "base_uri": "https://localhost:8080/"
        },
        "outputId": "da4054f9-07c3-483a-f57a-4c6b138b0025",
        "id": "XLCzBqvNdfOu"
      },
      "execution_count": null,
      "outputs": [
        {
          "output_type": "stream",
          "name": "stdout",
          "text": [
            "Aki\n",
            "54\n"
          ]
        }
      ]
    },
    {
      "cell_type": "code",
      "source": [
        "\n",
        "#name,ageを持つHumanクラスを作成\n",
        "\n",
        "class Human:\n",
        "\n",
        "# コンストラクタ、属性を定義\n",
        "  def __init__(self, name, age):\n",
        "   self.name=name\n",
        "   self.age=age\n",
        "\n",
        "#Age>20は大人、そうでない場合は大人でない、とPrint\n",
        "\n",
        "  def check_adult (self):\n",
        "   if self.age >= 20:\n",
        "    print(f\"{self.name} は{self.age}歳, Adult\")\n",
        "   else:\n",
        "    print(f\"{self.name} は {self.age}歳, NOT Adult\")\n",
        "\n",
        "#インスタンスを複数生成する\n",
        "Human1=Human(\"あきひろ\",54)\n",
        "Human2=Human(\"こうぞう\",18)\n",
        "Human3=Human(\"Yuji\",30)\n",
        "Human4=Human(\"Aki\",40)\n",
        "\n",
        "\n",
        "#インスタンスをリストに加える\n",
        "Humans=[]\n",
        "Humans.append(Human1)\n",
        "Humans.append(Human2)\n",
        "Humans.append(Human3)\n",
        "Humans.append(Human4)\n",
        "\n",
        "#リストの要素数分だけCheck_Adultメソッドを呼び出す\n",
        "for Human in Humans:\n",
        "    Human.check_adult ()\n",
        "\n"
      ],
      "metadata": {
        "id": "cVN08RQ70Nq5",
        "colab": {
          "base_uri": "https://localhost:8080/"
        },
        "outputId": "621665d1-4c55-46c1-f945-2b1104b64909"
      },
      "execution_count": null,
      "outputs": [
        {
          "output_type": "stream",
          "name": "stdout",
          "text": [
            "あきひろ は54歳, Adult\n",
            "こうぞう は 18歳, NOT Adult\n",
            "Yuji は30歳, Adult\n",
            "Aki は40歳, Adult\n"
          ]
        }
      ]
    },
    {
      "cell_type": "code",
      "source": [
        "\n",
        "\n",
        "\n"
      ],
      "metadata": {
        "id": "lKloA_GiZK0n"
      },
      "execution_count": null,
      "outputs": []
    },
    {
      "cell_type": "markdown",
      "source": [],
      "metadata": {
        "id": "1h9G-kXhu0Di"
      }
    },
    {
      "cell_type": "code",
      "source": [
        "import time\n",
        "\n",
        "print(time.strftime('%y年%m月%d日%H時%m分%S秒',time.localtime()))\n"
      ],
      "metadata": {
        "id": "qKZkiR9XmbaG"
      },
      "execution_count": null,
      "outputs": []
    },
    {
      "cell_type": "code",
      "source": [
        "import time\n",
        "print(time.time())\n"
      ],
      "metadata": {
        "id": "bkbizLGRnplH"
      },
      "execution_count": null,
      "outputs": []
    },
    {
      "cell_type": "code",
      "source": [
        "import datetime\n",
        "now=datetime.datetime.now()\n"
      ],
      "metadata": {
        "id": "qdrhVg5En1Mq"
      },
      "execution_count": null,
      "outputs": []
    }
  ]
}