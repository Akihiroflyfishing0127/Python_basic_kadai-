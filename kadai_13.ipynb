{
  "nbformat": 4,
  "nbformat_minor": 0,
  "metadata": {
    "colab": {
      "provenance": [],
      "authorship_tag": "ABX9TyNtISKFKxLLRlTaTvcxUz4b",
      "include_colab_link": true
    },
    "kernelspec": {
      "name": "python3",
      "display_name": "Python 3"
    },
    "language_info": {
      "name": "python"
    }
  },
  "cells": [
    {
      "cell_type": "markdown",
      "metadata": {
        "id": "view-in-github",
        "colab_type": "text"
      },
      "source": [
        "<a href=\"https://colab.research.google.com/github/Akihiroflyfishing0127/Python_basic_kadai-/blob/main/kadai_13.ipynb\" target=\"_parent\"><img src=\"https://colab.research.google.com/assets/colab-badge.svg\" alt=\"Open In Colab\"/></a>"
      ]
    },
    {
      "cell_type": "code",
      "execution_count": null,
      "metadata": {
        "colab": {
          "base_uri": "https://localhost:8080/"
        },
        "id": "MSoSavwPY9J3",
        "outputId": "41fc8138-1cc8-4bf8-e903-d619094e1e30"
      },
      "outputs": [
        {
          "output_type": "stream",
          "name": "stdout",
          "text": [
            "3\n"
          ]
        }
      ],
      "source": [
        "print (1+2)"
      ]
    },
    {
      "cell_type": "code",
      "source": [
        "import random\n",
        "num=random.randint(0,4)\n",
        "print(num)\n",
        "if num==4:\n",
        "  print(\"ooatari!\")\n",
        "elif num==3:\n",
        "  print(\"atari\")\n",
        "else:\n",
        "  print('hazure')\n"
      ],
      "metadata": {
        "colab": {
          "base_uri": "https://localhost:8080/"
        },
        "id": "ZXLuHXycBZKS",
        "outputId": "9427c59f-1ee1-4c40-a831-a02cfd0de03a"
      },
      "execution_count": 13,
      "outputs": [
        {
          "output_type": "stream",
          "name": "stdout",
          "text": [
            "2\n",
            "hazure\n"
          ]
        }
      ]
    },
    {
      "cell_type": "markdown",
      "source": [],
      "metadata": {
        "id": "w-KrToaQBbK6"
      }
    },
    {
      "cell_type": "markdown",
      "source": [],
      "metadata": {
        "id": "-Ia9PiKdIF8M"
      }
    },
    {
      "cell_type": "code",
      "source": [
        "for i in range(1,11):\n",
        "    if i % 2 == 1:\n",
        "       continue\n",
        "    print(i)\n"
      ],
      "metadata": {
        "id": "5yNmOCE7IIR8",
        "colab": {
          "base_uri": "https://localhost:8080/"
        },
        "outputId": "78de33f7-e763-433a-ab55-ec68181ac48d"
      },
      "execution_count": 28,
      "outputs": [
        {
          "output_type": "stream",
          "name": "stdout",
          "text": [
            "2\n",
            "4\n",
            "6\n",
            "8\n",
            "10\n"
          ]
        }
      ]
    },
    {
      "cell_type": "code",
      "source": [
        "import random\n",
        "num=1\n",
        "\n",
        "while num!=0:\n",
        "  num=random.randint(0,10)\n",
        "  print(f\"The number is{num}desu\")\n",
        ""
      ],
      "metadata": {
        "colab": {
          "base_uri": "https://localhost:8080/"
        },
        "id": "r28qwXy8Ke2k",
        "outputId": "0437ec7d-e694-4d1e-e41a-b6095be0dd59"
      },
      "execution_count": 32,
      "outputs": [
        {
          "output_type": "stream",
          "name": "stdout",
          "text": [
            "The number is6desu\n",
            "The number is7desu\n",
            "The number is7desu\n",
            "The number is5desu\n",
            "The number is9desu\n",
            "The number is6desu\n",
            "The number is0desu\n"
          ]
        }
      ]
    },
    {
      "cell_type": "code",
      "source": [
        "personal_data={\"name\":\"Akihiro\",\"age\":\"54\",\"gender\":\"male\"}\n",
        "for key,value in personal_data.items():\n",
        "    print(f\"{key} is {value}.\")\n",
        "\n",
        "for value in personal_data.values():\n",
        "  print(f\"{value}desu\")\n"
      ],
      "metadata": {
        "colab": {
          "base_uri": "https://localhost:8080/"
        },
        "id": "pdL6803ONchz",
        "outputId": "2f5db405-2674-451f-801e-3ddf48123777"
      },
      "execution_count": 39,
      "outputs": [
        {
          "output_type": "stream",
          "name": "stdout",
          "text": [
            "name is Akihiro.\n",
            "age is 54.\n",
            "gender is male.\n",
            "Akihirodesu\n",
            "54desu\n",
            "maledesu\n"
          ]
        }
      ]
    },
    {
      "cell_type": "code",
      "source": [
        "def calculation_total(price,tax_ratio):\n",
        "    total = price*(1+tax_ratio)\n",
        "    print(f\"{total}desu\")\n",
        "\n",
        "calculation_total(800,0.1)\n"
      ],
      "metadata": {
        "colab": {
          "base_uri": "https://localhost:8080/"
        },
        "id": "lL2KBaQtVs0i",
        "outputId": "afcc545c-bf30-420a-df37-b15e0c50a4bf"
      },
      "execution_count": 51,
      "outputs": [
        {
          "output_type": "stream",
          "name": "stdout",
          "text": [
            "880.0000000000001desu\n"
          ]
        }
      ]
    }
  ]
}