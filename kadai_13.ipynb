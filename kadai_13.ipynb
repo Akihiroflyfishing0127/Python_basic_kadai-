{
  "nbformat": 4,
  "nbformat_minor": 0,
  "metadata": {
    "colab": {
      "provenance": [],
      "authorship_tag": "ABX9TyPSQ6NINZfMHKMAQCACZcZj",
      "include_colab_link": true
    },
    "kernelspec": {
      "name": "python3",
      "display_name": "Python 3"
    },
    "language_info": {
      "name": "python"
    }
  },
  "cells": [
    {
      "cell_type": "markdown",
      "metadata": {
        "id": "view-in-github",
        "colab_type": "text"
      },
      "source": [
        "<a href=\"https://colab.research.google.com/github/Akihiroflyfishing0127/Python_basic_kadai-/blob/main/kadai_13.ipynb\" target=\"_parent\"><img src=\"https://colab.research.google.com/assets/colab-badge.svg\" alt=\"Open In Colab\"/></a>"
      ]
    },
    {
      "cell_type": "code",
      "source": [
        "def calculation_total(price):\n",
        "    tax_ratio=0.1\n",
        "    total = price*(1+tax_ratio)\n",
        "    print(f\"{total}desu\")\n",
        "\n",
        "calculation_total(800)\n"
      ],
      "metadata": {
        "colab": {
          "base_uri": "https://localhost:8080/"
        },
        "id": "lL2KBaQtVs0i",
        "outputId": "e39881b7-82ae-4981-f477-0a3d07c76aef"
      },
      "execution_count": 53,
      "outputs": [
        {
          "output_type": "stream",
          "name": "stdout",
          "text": [
            "880.0000000000001desu\n"
          ]
        }
      ]
    }
  ]
}