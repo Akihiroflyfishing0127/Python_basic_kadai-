{
  "cells": [
    {
      "cell_type": "markdown",
      "metadata": {
        "id": "view-in-github",
        "colab_type": "text"
      },
      "source": [
        "<a href=\"https://colab.research.google.com/github/Akihiroflyfishing0127/Python_basic_kadai-/blob/main/python_scraping_kadai4.ipynb\" target=\"_parent\"><img src=\"https://colab.research.google.com/assets/colab-badge.svg\" alt=\"Open In Colab\"/></a>"
      ]
    },
    {
      "cell_type": "code",
      "execution_count": null,
      "metadata": {
        "colab": {
          "base_uri": "https://localhost:8080/"
        },
        "id": "FXs4ofHYA4Xp",
        "outputId": "b4f786b8-163b-4a2b-a6a5-ac0fc8d3f6ba"
      },
      "outputs": [
        {
          "output_type": "stream",
          "name": "stdout",
          "text": [
            "<selenium.webdriver.remote.webelement.WebElement (session=\"f9a57a45fa9040d66257a4122759a1fd\", element=\"f.523C5AF6992056ACDFEB59462C75DF47.d.8AD0C97F48F671B14EFB44BC937516DD.e.60\")>\n",
            "559\n",
            "[['2024年05月20日', '始値: 38,761.71', '高値: 39,437.16', '安値: 38,703.7', '終値: 39,069.68'], ['2024年05月17日', '始値: 38,561.04', '高値: 38,842.49', '安値: 38,539.56', '終値: 38,787.38'], ['2024年05月16日', '始値: 38,645.96', '高値: 38,949.38', '安値: 38,513.33', '終値: 38,920.26'], ['2024年05月15日', '始値: 38,533.09', '高値: 38,816.6', '安値: 38,335.61', '終値: 38,385.73'], ['2024年05月14日', '始値: 38,287.99', '高値: 38,477.68', '安値: 38,084.71', '終値: 38,356.06'], ['2024年05月13日', '始値: 38,211.61', '高値: 38,273.4', '安値: 37,969.58', '終値: 38,179.46'], ['2024年05月10日', '始値: 38,361.79', '高値: 38,741.88', '安値: 38,126.91', '終値: 38,229.11'], ['2024年05月09日', '始値: 38,242.92', '高値: 38,429.81', '安値: 38,072.24', '終値: 38,073.98'], ['2024年05月08日', '始値: 38,677.57', '高値: 38,749.35', '安値: 38,159.85', '終値: 38,202.37'], ['2024年05月07日', '始値: 38,636.23', '高値: 38,863.14', '安値: 38,541.97', '終値: 38,835.1'], ['2024年05月02日', '始値: 38,004.01', '高値: 38,355.6', '安値: 37,958.19', '終値: 38,236.07']]\n"
          ]
        }
      ],
      "source": [
        "#日経新聞から日経平均株価データを抽出する\n",
        "#!pip install selenium\n",
        "from bs4 import BeautifulSoup\n",
        "from selenium import webdriver\n",
        "from selenium.webdriver.common.by import By\n",
        "from selenium.webdriver.support.ui import WebDriverWait\n",
        "from selenium.webdriver.support import expected_conditions as EC\n",
        "from selenium.webdriver.common.action_chains import ActionChains\n",
        "from getpass import getpass\n",
        "\n",
        "# ヘッドレスモードで起動するためのオプションを設定\n",
        "chrome_options = webdriver.ChromeOptions()\n",
        "chrome_options.add_argument('--headless')\n",
        "chrome_options.add_argument('--no-sandbox')\n",
        "chrome_options.add_argument('--disable-dev-shm-usage')\n",
        "\n",
        "# Chromeを立ち上げる\n",
        "chrome_driver = webdriver.Chrome(options=chrome_options)\n",
        "\n",
        "#日経新聞のWEBページにアクセスする\n",
        "chrome_driver.get('https://www.nikkei.com/markets/worldidx/chart/nk225/?type=6month')\n",
        "\n",
        "# グラフの要素を取得（SYさん修正）\n",
        "#graph_element = chrome_driver.find_elements(By.CSS_SELECTOR, '#highcharts-0 > div.highcharts-tooltip > span > table > tbody > tr:nth-child(1) > td:nth-child(1)')\n",
        "for _ in range(10):\n",
        "    graph_element = chrome_driver.find_elements(By.CSS_SELECTOR, '.highcharts-grid')[1]\n",
        "    print(graph_element)\n",
        "    graph_element.click\n",
        "    if graph_element is not None:\n",
        "        break\n",
        "    print('continue find elements')\n",
        "\n",
        "# ActionChainsを用いたマウスの操作\n",
        "actions = ActionChains(chrome_driver)\n",
        "\n",
        "# グラフの中央にマウスを移動させる\n",
        "#actions.move_to_element(graph_element).move_by_offset(xoffset=graph_element.size['width'] / 2, yoffset=0).perform()\n",
        "actions = ActionChains(chrome_driver)\n",
        "actions.move_to_element(graph_element).perform()\n",
        "#グラフ幅の半分だけ右にマウスを移動させる\n",
        "actions.move_by_offset(xoffset=graph_element.size['width'] / 2, yoffset=0).perform()\n",
        "\n",
        "# 1pxずつ左にマウスをずらしながらデータを取得する（椿原さん修正）\n",
        "#for _ in range(graph_element.size['width']):\n",
        "#    actions = ActionChains(chrome_driver)\n",
        "#    actions.move_by_offset(xoffset=-1, yoffset=0).perform()\n",
        "#    html = chrome_driver.page_source.encode('utf-8')\n",
        "#    temp_value = extract_stock_data(html)\n",
        "#    if temp_value not in stock_values:\n",
        "#     stock_values.append(temp_value)\n",
        "#return stock_values\n",
        "\n",
        "print(graph_element.size['width'])\n",
        "stock_price=[]\n",
        "#for _ in range(graph_element.size['width']):\n",
        "for _ in range(50):\n",
        "    actions = ActionChains(chrome_driver)\n",
        "    actions.move_by_offset(xoffset=-1, yoffset=0).perform()\n",
        "\n",
        "#データを取得する操作を記述\n",
        "#グラフの要素を取得\n",
        "#graph_element = chrome_driver.find_element(By.CSS_SELECTOR, '#highcharts-0 > div.highcharts-tooltip > span > table > tbody > tr:nth-child(1) > td:nth-child(1)')\n",
        "  # click（わからない）\n",
        "  # chrome_driver.click\n",
        "\n",
        "  # 対象の要素(日付)が見つかるまで最大50秒間待機\n",
        "    title_element1 = WebDriverWait(chrome_driver, 50).until(EC.presence_of_element_located((By.CSS_SELECTOR, '#highcharts-0 > div.highcharts-tooltip > span > table > tbody > tr:nth-child(1) > td:nth-child(1)')))\n",
        "    #print(title_element1.text)\n",
        "\n",
        "  #日付の表示を変更（一桁の場合は０を加える）\n",
        "    import re\n",
        "    #title_element_test=\"2024/5/8\"\n",
        "    pattern = \"([0-9]+)/([0-9]+)/([0-9]+)\"\n",
        "    result = re.search(pattern,title_element1.text)\n",
        "    Year = result.group(1)\n",
        "    #print(Year)\n",
        "\n",
        "    #月が一桁の場合は0を追加\n",
        "    Month = result.group(2)\n",
        "    if int(Month)<10:\n",
        "        Month = \"0\" + Month\n",
        "    #print(Month)\n",
        "\n",
        "    #日が一桁の場合は0を追加\n",
        "    Date=  result.group(3)\n",
        "    if int(Date)<10:\n",
        "        Date = '0' + Date\n",
        "    #print(Date)\n",
        "\n",
        "    #結果を出力\n",
        "    #print(Year+'年' + Month +'月'+ Date +'日')\n",
        "    title_element1 = Year+'年' + Month +'月'+ Date +'日'\n",
        "\n",
        "  # 対象の要素（始値）が見つかるまで最大30秒間待機\n",
        "    title_element2 = WebDriverWait(chrome_driver, 30).until(EC.presence_of_element_located((By.CSS_SELECTOR, '#highcharts-0 > div.highcharts-tooltip > span > table > tbody > tr:nth-child(1) > td:nth-child(2)')))\n",
        "    #print(title_element2.text)  # 要素のテキストを表示\n",
        "\n",
        "  # 対象の要素（高値）が見つかるまで最大30秒間待機\n",
        "    title_element3 = WebDriverWait(chrome_driver, 30).until(EC.presence_of_element_located((By.CSS_SELECTOR, '#highcharts-0 > div.highcharts-tooltip > span > table > tbody > tr:nth-child(1) > td:nth-child(3)')))\n",
        "    #print(title_element3.text)  # 要素のテキストを表示\n",
        "\n",
        "  # 対象の要素（安値）が見つかるまで最大30秒間待機\n",
        "    title_element4 = WebDriverWait(chrome_driver, 30).until(EC.presence_of_element_located((By.CSS_SELECTOR, '#highcharts-0 > div.highcharts-tooltip > span > table > tbody > tr:nth-child(1) > td:nth-child(4)')))\n",
        "    #print(title_element4.text)  # 要素のテキストを表s示\n",
        "\n",
        " # 対象の要素（終値）が見つかるまで最大30秒間待機\n",
        "    title_element5 = WebDriverWait(chrome_driver, 30).until(EC.presence_of_element_located((By.CSS_SELECTOR, '#highcharts-0 > div.highcharts-tooltip > span > table > tbody > tr:nth-child(1) > td:nth-child(5)')))\n",
        "    #print(title_element5.text)  # 要素のテキストを表示\n",
        "\n",
        "\n",
        "#HTMLから株価データを抽出する関数の作成\n",
        "    temp_stock_price=[title_element1,title_element2.text,title_element3.text,title_element4.text,title_element5.text]\n",
        "    if temp_stock_price not in stock_price:\n",
        "        stock_price.append(temp_stock_price)\n",
        "\n",
        "\n",
        "#リストを出力\n",
        "print (stock_price)\n",
        "\n",
        "# ウェブドライバーを閉じる\n",
        "chrome_driver.quit()\n",
        "\n",
        "\n",
        "\n"
      ]
    },
    {
      "cell_type": "code",
      "execution_count": null,
      "metadata": {
        "colab": {
          "base_uri": "https://localhost:8080/"
        },
        "id": "xu6H_9rHJJ68",
        "outputId": "6bcc330e-b77a-4a43-fc4f-8066c4accb4c"
      },
      "outputs": [
        {
          "output_type": "stream",
          "name": "stdout",
          "text": [
            "2024年05月08日\n"
          ]
        }
      ],
      "source": [
        "   import re\n",
        "   title_element_test=\"2024/5/8\"\n",
        "   pattern = \"([0-9]+)/([0-9]+)/([0-9]+)\"\n",
        "   result = re.search(pattern,title_element_test)\n",
        "   Year = result.group(1)\n",
        "   #print(Year)\n",
        "\n",
        "#月が一桁の場合は0を追加\n",
        "   Month = result.group(2)\n",
        "   if int(Month)<10:\n",
        "       Month = \"0\" + Month\n",
        "   #print(Month)\n",
        "\n",
        "#日が一桁の場合は0を追加\n",
        "   Date=  result.group(3)\n",
        "   if int(Date)<10:\n",
        "       Date = '0' + Date\n",
        "   #print(Date)\n",
        "\n",
        "#結果を出力\n",
        "   print(Year+'年' + Month +'月'+ Date +'日')\n"
      ]
    },
    {
      "cell_type": "code",
      "execution_count": null,
      "metadata": {
        "colab": {
          "base_uri": "https://localhost:8080/"
        },
        "id": "g8OBe5w0Ia9S",
        "outputId": "95af02e5-c0b3-4d40-ca4c-404eb656ece9"
      },
      "outputs": [
        {
          "name": "stdout",
          "output_type": "stream",
          "text": [
            "Collecting selenium\n",
            "  Downloading selenium-4.20.0-py3-none-any.whl (9.5 MB)\n",
            "\u001b[2K     \u001b[90m━━━━━━━━━━━━━━━━━━━━━━━━━━━━━━━━━━━━━━━━\u001b[0m \u001b[32m9.5/9.5 MB\u001b[0m \u001b[31m24.7 MB/s\u001b[0m eta \u001b[36m0:00:00\u001b[0m\n",
            "\u001b[?25hRequirement already satisfied: urllib3[socks]<3,>=1.26 in /usr/local/lib/python3.10/dist-packages (from selenium) (2.0.7)\n",
            "Collecting trio~=0.17 (from selenium)\n",
            "  Downloading trio-0.25.0-py3-none-any.whl (467 kB)\n",
            "\u001b[2K     \u001b[90m━━━━━━━━━━━━━━━━━━━━━━━━━━━━━━━━━━━━━━━━\u001b[0m \u001b[32m467.2/467.2 kB\u001b[0m \u001b[31m35.7 MB/s\u001b[0m eta \u001b[36m0:00:00\u001b[0m\n",
            "\u001b[?25hCollecting trio-websocket~=0.9 (from selenium)\n",
            "  Downloading trio_websocket-0.11.1-py3-none-any.whl (17 kB)\n",
            "Requirement already satisfied: certifi>=2021.10.8 in /usr/local/lib/python3.10/dist-packages (from selenium) (2024.2.2)\n",
            "Requirement already satisfied: typing_extensions>=4.9.0 in /usr/local/lib/python3.10/dist-packages (from selenium) (4.11.0)\n",
            "Requirement already satisfied: attrs>=23.2.0 in /usr/local/lib/python3.10/dist-packages (from trio~=0.17->selenium) (23.2.0)\n",
            "Requirement already satisfied: sortedcontainers in /usr/local/lib/python3.10/dist-packages (from trio~=0.17->selenium) (2.4.0)\n",
            "Requirement already satisfied: idna in /usr/local/lib/python3.10/dist-packages (from trio~=0.17->selenium) (3.7)\n",
            "Collecting outcome (from trio~=0.17->selenium)\n",
            "  Downloading outcome-1.3.0.post0-py2.py3-none-any.whl (10 kB)\n",
            "Requirement already satisfied: sniffio>=1.3.0 in /usr/local/lib/python3.10/dist-packages (from trio~=0.17->selenium) (1.3.1)\n",
            "Requirement already satisfied: exceptiongroup in /usr/local/lib/python3.10/dist-packages (from trio~=0.17->selenium) (1.2.1)\n",
            "Collecting wsproto>=0.14 (from trio-websocket~=0.9->selenium)\n",
            "  Downloading wsproto-1.2.0-py3-none-any.whl (24 kB)\n",
            "Requirement already satisfied: pysocks!=1.5.7,<2.0,>=1.5.6 in /usr/local/lib/python3.10/dist-packages (from urllib3[socks]<3,>=1.26->selenium) (1.7.1)\n",
            "Collecting h11<1,>=0.9.0 (from wsproto>=0.14->trio-websocket~=0.9->selenium)\n",
            "  Downloading h11-0.14.0-py3-none-any.whl (58 kB)\n",
            "\u001b[2K     \u001b[90m━━━━━━━━━━━━━━━━━━━━━━━━━━━━━━━━━━━━━━━━\u001b[0m \u001b[32m58.3/58.3 kB\u001b[0m \u001b[31m6.9 MB/s\u001b[0m eta \u001b[36m0:00:00\u001b[0m\n",
            "\u001b[?25hInstalling collected packages: outcome, h11, wsproto, trio, trio-websocket, selenium\n",
            "Successfully installed h11-0.14.0 outcome-1.3.0.post0 selenium-4.20.0 trio-0.25.0 trio-websocket-0.11.1 wsproto-1.2.0\n"
          ]
        }
      ],
      "source": [
        "!pip install selenium"
      ]
    }
  ],
  "metadata": {
    "colab": {
      "provenance": [],
      "authorship_tag": "ABX9TyNTvBrGZpuYdrefn3R1MLhK",
      "include_colab_link": true
    },
    "kernelspec": {
      "display_name": "Python 3",
      "name": "python3"
    },
    "language_info": {
      "name": "python"
    }
  },
  "nbformat": 4,
  "nbformat_minor": 0
}