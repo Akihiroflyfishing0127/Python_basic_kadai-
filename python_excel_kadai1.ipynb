{
  "nbformat": 4,
  "nbformat_minor": 0,
  "metadata": {
    "colab": {
      "provenance": [],
      "authorship_tag": "ABX9TyMOT6VxX5WGx1b9WhAu3Avv",
      "include_colab_link": true
    },
    "kernelspec": {
      "name": "python3",
      "display_name": "Python 3"
    },
    "language_info": {
      "name": "python"
    }
  },
  "cells": [
    {
      "cell_type": "markdown",
      "metadata": {
        "id": "view-in-github",
        "colab_type": "text"
      },
      "source": [
        "<a href=\"https://colab.research.google.com/github/Akihiroflyfishing0127/Python_basic_kadai-/blob/main/python_excel_kadai1.ipynb\" target=\"_parent\"><img src=\"https://colab.research.google.com/assets/colab-badge.svg\" alt=\"Open In Colab\"/></a>"
      ]
    },
    {
      "cell_type": "code",
      "execution_count": 18,
      "metadata": {
        "id": "dXD-QE5a-48G",
        "colab": {
          "base_uri": "https://localhost:8080/"
        },
        "outputId": "702e6fa3-a9f1-4f05-abcd-0fe71c4088af"
      },
      "outputs": [
        {
          "output_type": "stream",
          "name": "stdout",
          "text": [
            "2024/06/12\n"
          ]
        }
      ],
      "source": [
        "import openpyxl\n",
        "from openpyxl.styles import Border, Side\n",
        "import datetime\n",
        "\n",
        "# 新しいワークブックを作成\n",
        "workbook = openpyxl.Workbook()\n",
        "ws = workbook.active\n",
        "today = datetime.date.today()\n",
        "formatted_date = today.strftime(\"%Y/%m/%d\")\n",
        "\n",
        "print(formatted_date)\n",
        "\n",
        "#題名、宛名、日付など\n",
        "ws.cell(row=2, column=2,value='請求書')\n",
        "ws.cell(row=4, column=2,value='株式会社ABC')\n",
        "ws.cell(row=5, column=2,value='〒101-0022 東京都千代田区神田練塀町300')\n",
        "ws.cell(row=6, column=2,value='TEL:03-1234-5678 FAX:03-1234-5678')\n",
        "ws.cell(row=7, column=2,value='担当者名:鈴木一郎 様')\n",
        "ws.cell(row=4, column=6,value='No.')\n",
        "ws.cell(row=4, column=7,value='0001')\n",
        "ws.cell(row=5, column=6,value='日付')\n",
        "ws.cell(row=5, column=7,value=formatted_date)\n",
        "\n",
        "# 表のヘッダー行を書き込む\n",
        "#ws.cell(row=7, column=2, value='')\n",
        "header = ['商品名', '数量', '単価','金額']\n",
        "#ws.append(header)\n",
        "for col_num, header_title in enumerate(header,start=2):\n",
        "  ws.cell(row=9,column=col_num, value=header_title)\n",
        "\n",
        "\n",
        "# 表のデータを書き込む\n",
        "data = [\n",
        "    ['商品A', 2, 10000],\n",
        "    ['商品B', 1, 15000]\n",
        "]\n",
        "\n",
        "# 表のデータをwsに追加 & 金額を計算して書き込む\n",
        "i = 9  # データ開始行\n",
        "total = 0\n",
        "for item in data:\n",
        "    i = i + 1\n",
        "    name = item[0]\n",
        "    quantity = item[1]\n",
        "    price = item[2]\n",
        "    #print(f'商品名: {name}, 数量{quantity}, 価格{price}')\n",
        "    #print(item)\n",
        "    ws.cell(row= i, column = 2, value = name )\n",
        "    ws.cell(row= i, column = 3, value = quantity )\n",
        "    ws.cell(row= i, column = 4, value = price )\n",
        "    ws.cell(row= i, column = 5, value = quantity * price)#金額を計算\n",
        "    total += quantity * price #合計\n",
        "    #print(total)\n",
        "    ws.cell(row= 12, column = 5, value = total )# 合計を書き込み\n",
        "tax = total*0.1 #消費税10％込みの合計を計算\n",
        "total_tax = total + tax #税込み合計を計算\n",
        "\n",
        "# 合計、消費税、税込み合計を書き込み\n",
        "ws.cell(row=15, column=2,value='小計')\n",
        "ws.cell(row=15, column=5,value= total)\n",
        "ws.cell(row=16, column=2, value='消費税')\n",
        "ws.cell(row=16, column=5, value= tax )#消費税10%\n",
        "ws.cell(row=17, column=2, value='合計')\n",
        "ws.cell(row=17, column=5, value= total_tax)\n",
        "\n",
        "# ファイルを保存\n",
        "workbook.save('請求書_現在日付.xlsx')\n",
        "\n",
        "######################################\n",
        "\n",
        "#    # セルA1:D4に上下左右に枠線を追加\n",
        "# thin_border = Border(left=Side(style='thin'),\n",
        "#                    right=Side(style='thin'),\n",
        "#                    top=Side(style='thin'),\n",
        "#\n",
        "#                   bottom=Side(style='thin'))\n",
        "# セル範囲をsheet['A1:D4'] と指定して、for文で各セルに枠線を追加\n",
        "#for row in sheet['A1:D4']:\n",
        "#    for cell in row:\n",
        "#        cell.border = thin_border\n",
        "\n",
        "\n",
        "\n"
      ]
    },
    {
      "cell_type": "code",
      "source": [
        "from google.colab import drive\n",
        "drive.mount('/content/drive')"
      ],
      "metadata": {
        "id": "jN9iq9sabab6"
      },
      "execution_count": null,
      "outputs": []
    }
  ]
}