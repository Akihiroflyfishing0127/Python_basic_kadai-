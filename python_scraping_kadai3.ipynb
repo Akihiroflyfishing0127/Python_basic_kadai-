{
  "nbformat": 4,
  "nbformat_minor": 0,
  "metadata": {
    "colab": {
      "provenance": [],
      "authorship_tag": "ABX9TyNIo/AWGw4cKj2Xda048cl3",
      "include_colab_link": true
    },
    "kernelspec": {
      "name": "python3",
      "display_name": "Python 3"
    },
    "language_info": {
      "name": "python"
    }
  },
  "cells": [
    {
      "cell_type": "markdown",
      "metadata": {
        "id": "view-in-github",
        "colab_type": "text"
      },
      "source": [
        "<a href=\"https://colab.research.google.com/github/Akihiroflyfishing0127/Python_basic_kadai-/blob/main/python_scraping_kadai3.ipynb\" target=\"_parent\"><img src=\"https://colab.research.google.com/assets/colab-badge.svg\" alt=\"Open In Colab\"/></a>"
      ]
    },
    {
      "cell_type": "code",
      "source": [
        "#正解のコード（8章）\n",
        "!pip install selenium\n",
        "from selenium import webdriver\n",
        "from selenium.webdriver.common.by import By\n",
        "from selenium.webdriver.support.ui import WebDriverWait\n",
        "from selenium.webdriver.support import expected_conditions as EC\n",
        "from getpass import getpass\n",
        "\n",
        "\n",
        "# ヘッドレスモードで起動するためのオプションを設定\n",
        "chrome_options = webdriver.ChromeOptions()\n",
        "chrome_options.add_argument('--headless')\n",
        "chrome_options.add_argument('--no-sandbox')\n",
        "chrome_options.add_argument('--disable-dev-shm-usage')\n",
        "\n",
        "# Chromeを立ち上げる\n",
        "chrome_driver = webdriver.Chrome(options=chrome_options)\n",
        "\n",
        "# TERAKOYAのトップページにアクセス\n",
        "chrome_driver.get('https://terakoya.sejuku.net/register')\n",
        "\n",
        "# 最大30秒間、ログインボタンが表示されるのを待つ\n",
        "# ※教材からCSSセレクタを変えています。\n",
        "wait = WebDriverWait(chrome_driver, 30)\n",
        "header_login_button = wait.until(\n",
        "    EC.visibility_of_element_located(\n",
        "        (By.CSS_SELECTOR,\n",
        "         '#root > header > div.sc-kPOpbv.FnahY')\n",
        "    )\n",
        ")\n",
        "\n",
        "# ログインボタンをクリックする\n",
        "header_login_button.click()\n",
        "\n",
        "email_address = input('メールアドレスを入力してください: ')\n",
        "password = getpass('パスワードを入力してください: ')\n",
        "\n",
        "# メールアドレスとパスワードの入力欄を見つける\n",
        "# ※教材からCSSセレクタを変えています。\n",
        "\n",
        "parent_element = chrome_driver.find_element(By.CSS_SELECTOR, '.sc-ksBlkl.inYbdj')\n",
        "email_input = parent_element.find_element(By.NAME, 'email')\n",
        "password_input = parent_element.find_element(By.NAME, 'password')\n",
        "\n",
        "# メールアドレスとパスワードを設定\n",
        "\n",
        "email_input.send_keys(email_address)\n",
        "password_input.send_keys(password)\n",
        "\n",
        "form_login_button = wait.until(\n",
        "    EC.visibility_of_element_located(\n",
        "        (By.CSS_SELECTOR,\n",
        "         '#root > div.sc-pyfCe.cZfPwB > div.sc-kDvujY.eCJBhf > '\n",
        "         'div.sc-eDWCr.dePrRH > button')\n",
        "    )\n",
        ")\n",
        "\n",
        "form_login_button.click()\n",
        "\n",
        "\n",
        "# ログイン後、要素が読み込まれるまで待つ\n",
        "wait.until(EC.visibility_of_element_located((By.CSS_SELECTOR, 'nav > img ')))\n",
        "\n",
        "# スクリーンショットを撮る\n",
        "chrome_driver.save_screenshot('screenshot.png')\n",
        "\n",
        "\n",
        "#プロフィールに自己紹介文を記載する\n",
        "\n",
        "chrome_driver.get('https://terakoya.sejuku.net/account/profile')\n",
        "\n",
        "# 最大30秒間、編集ボタンが表示されるのを待つ\n",
        "# ※教材からCSSセレクタを変えています。\n",
        "wait = WebDriverWait(chrome_driver, 30)\n",
        "header_login_button = wait.until(\n",
        "    EC.visibility_of_element_located(\n",
        "        (By.CSS_SELECTOR,\n",
        "         '#root > div.sc-lbtWl.kNdbxG > div > div > main > div > div.sc-kDERJE.jrfBPg > button')\n",
        "    )\n",
        ")\n",
        "\n",
        "# 編集ボタンをクリックする\n",
        "header_login_button.click()\n",
        "\n",
        "# 自己紹介を入力する\n",
        "self_intro = input('自己紹介を入力してください: ')\n",
        "\n",
        "# 自己紹介の入力欄を見つける\n",
        "parent_element = chrome_driver.find_element(By.CSS_SELECTOR, '#root > div.sc-lbtWl.kNdbxG > div > div > main > div > div.sc-kDERJE.jrfBPg > div:nth-child(9) > div.sc-cLXZOZ.igUngM > textarea')\n",
        "#self_input = parent_element.find_element(By.NAME, 'self')\n",
        "#'#root > div.sc-lbtWl.kNdbxG > div > div > main > div > div.sc-kDERJE.jrfBPg > div(9) > div.sc-cLXZOZ.igUngM > textarea'\n",
        "print(f'属性の値: {parent_element}')\n",
        "\n",
        "# メールアドレスとパスワードを設定\n",
        "parent_element.send_keys(self_intro)\n",
        "\n",
        "# 更新ボタンをクリック\n",
        "\n",
        "form_login_button = wait.until(\n",
        "    EC.visibility_of_element_located(\n",
        "        (By.CSS_SELECTOR,\n",
        "         '#root > div.sc-lbtWl.kNdbxG > div > div > main > div > div.sc-kDERJE.jrfBPg > button.sc-eDvSVe.iklejs.sc-skquw.jeqpmG')\n",
        "    )\n",
        ")\n",
        "\n",
        "form_login_button.click()\n",
        "\n",
        "# スクリーンショットを撮る\n",
        "chrome_driver.save_screenshot('screenshot.png')\n",
        "\n",
        "\n",
        "\n"
      ],
      "metadata": {
        "id": "EADErbWiOwA4",
        "colab": {
          "base_uri": "https://localhost:8080/"
        },
        "outputId": "188a83fa-9b22-482c-8bff-7b7eee838054"
      },
      "execution_count": 4,
      "outputs": [
        {
          "output_type": "stream",
          "name": "stdout",
          "text": [
            "Requirement already satisfied: selenium in /usr/local/lib/python3.10/dist-packages (4.20.0)\n",
            "Requirement already satisfied: urllib3[socks]<3,>=1.26 in /usr/local/lib/python3.10/dist-packages (from selenium) (2.0.7)\n",
            "Requirement already satisfied: trio~=0.17 in /usr/local/lib/python3.10/dist-packages (from selenium) (0.25.0)\n",
            "Requirement already satisfied: trio-websocket~=0.9 in /usr/local/lib/python3.10/dist-packages (from selenium) (0.11.1)\n",
            "Requirement already satisfied: certifi>=2021.10.8 in /usr/local/lib/python3.10/dist-packages (from selenium) (2024.2.2)\n",
            "Requirement already satisfied: typing_extensions>=4.9.0 in /usr/local/lib/python3.10/dist-packages (from selenium) (4.11.0)\n",
            "Requirement already satisfied: attrs>=23.2.0 in /usr/local/lib/python3.10/dist-packages (from trio~=0.17->selenium) (23.2.0)\n",
            "Requirement already satisfied: sortedcontainers in /usr/local/lib/python3.10/dist-packages (from trio~=0.17->selenium) (2.4.0)\n",
            "Requirement already satisfied: idna in /usr/local/lib/python3.10/dist-packages (from trio~=0.17->selenium) (3.7)\n",
            "Requirement already satisfied: outcome in /usr/local/lib/python3.10/dist-packages (from trio~=0.17->selenium) (1.3.0.post0)\n",
            "Requirement already satisfied: sniffio>=1.3.0 in /usr/local/lib/python3.10/dist-packages (from trio~=0.17->selenium) (1.3.1)\n",
            "Requirement already satisfied: exceptiongroup in /usr/local/lib/python3.10/dist-packages (from trio~=0.17->selenium) (1.2.1)\n",
            "Requirement already satisfied: wsproto>=0.14 in /usr/local/lib/python3.10/dist-packages (from trio-websocket~=0.9->selenium) (1.2.0)\n",
            "Requirement already satisfied: pysocks!=1.5.7,<2.0,>=1.5.6 in /usr/local/lib/python3.10/dist-packages (from urllib3[socks]<3,>=1.26->selenium) (1.7.1)\n",
            "Requirement already satisfied: h11<1,>=0.9.0 in /usr/local/lib/python3.10/dist-packages (from wsproto>=0.14->trio-websocket~=0.9->selenium) (0.14.0)\n",
            "メールアドレスを入力してください: atoyoshima0127@icloud.com\n",
            "パスワードを入力してください: ··········\n",
            "自己紹介を入力してください: スクレイピング\n",
            "属性の値: <selenium.webdriver.remote.webelement.WebElement (session=\"7433bfef42e68ce593ae8f48e26e017e\", element=\"f.D6FD77ACB10B6CF321CC995AA0C24F15.d.0DFDFEDE054F435B455A0D4276C903B3.e.101\")>\n"
          ]
        },
        {
          "output_type": "execute_result",
          "data": {
            "text/plain": [
              "True"
            ]
          },
          "metadata": {},
          "execution_count": 4
        }
      ]
    }
  ]
}